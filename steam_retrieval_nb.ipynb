{
 "cells": [
  {
   "cell_type": "code",
   "execution_count": 27,
   "metadata": {},
   "outputs": [],
   "source": [
    "# Dependencies\n",
    "import requests\n",
    "import pprint\n",
    "\n",
    "# Import API key\n",
    "from configure.config import api_key"
   ]
  },
  {
   "cell_type": "code",
   "execution_count": 31,
   "metadata": {},
   "outputs": [],
   "source": [
    "# Example App ID (e.g., Dota 2 = 570, CS:GO = 730)\n",
    "APP_ID = 730"
   ]
  },
  {
   "cell_type": "code",
   "execution_count": 32,
   "metadata": {},
   "outputs": [],
   "source": [
    "# Construct the URL\n",
    "url = f\"http://api.steampowered.com/ISteamUserStats/GetGlobalAchievementPercentagesForApp/v0002/\"\n",
    "params = {\n",
    "    \"gameid\": APP_ID,\n",
    "    \"format\": \"json\"  # Optional, \"json\" is the default\n",
    "}\n",
    "\n",
    "# Make the API request\n",
    "response = requests.get(url, params=params)"
   ]
  },
  {
   "cell_type": "code",
   "execution_count": 33,
   "metadata": {},
   "outputs": [
    {
     "name": "stdout",
     "output_type": "stream",
     "text": [
      "Global Achievement Percentages:\n",
      "PLAY_CS2: 28.799999237060547%\n"
     ]
    }
   ],
   "source": [
    "# Check for success\n",
    "if response.status_code == 200:\n",
    "    data = response.json()\n",
    "    print(\"Global Achievement Percentages:\")\n",
    "    for achievement in data[\"achievementpercentages\"][\"achievements\"]:\n",
    "        print(f\"{achievement['name']}: {achievement['percent']}%\")\n",
    "else:\n",
    "    print(f\"Failed to fetch data: {response.status_code} - {response.text}\")"
   ]
  }
 ],
 "metadata": {
  "kernelspec": {
   "display_name": "dev",
   "language": "python",
   "name": "python3"
  },
  "language_info": {
   "codemirror_mode": {
    "name": "ipython",
    "version": 3
   },
   "file_extension": ".py",
   "mimetype": "text/x-python",
   "name": "python",
   "nbconvert_exporter": "python",
   "pygments_lexer": "ipython3",
   "version": "3.10.14"
  }
 },
 "nbformat": 4,
 "nbformat_minor": 2
}
